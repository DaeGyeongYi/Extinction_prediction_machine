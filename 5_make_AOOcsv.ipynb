{
 "cells": [
  {
   "cell_type": "code",
   "execution_count": null,
   "metadata": {},
   "outputs": [],
   "source": [
    "import pandas as pd\n",
    "import numpy as np\n",
    "\n",
    "from mlpckg.util_method import *\n",
    "from mlpckg.AOO import *\n",
    "import warnings\n",
    "warnings.filterwarnings('ignore')\n"
   ]
  },
  {
   "cell_type": "code",
   "execution_count": null,
   "metadata": {},
   "outputs": [],
   "source": [
    "# select_key() argument (\"1.novem/ 2.trans/ 3.bipun/ 4.paren \")\n",
    "# select_key() return (target_species,key)\n",
    "\n",
    "num = 1\n",
    "target_species,key= select_key(num)"
   ]
  },
  {
   "cell_type": "code",
   "execution_count": null,
   "metadata": {},
   "outputs": [],
   "source": [
    "shap_var = pd.read_csv(\"./Data/3rd_manipulated_data/shap_values/\"+target_species+\"shap_values_top15.csv\")\n",
    "shap_var = list(shap_var.name.values)"
   ]
  },
  {
   "cell_type": "code",
   "execution_count": null,
   "metadata": {},
   "outputs": [],
   "source": [
    "df_train = pd.read_csv(\"./Data/2nd_manipulated_data/20220808_\" + str(key)+\"_train_minmax.csv\")\n",
    "df_train = df_train.drop(df_train[(df_train[target_species + str('_18')]!=0)&(df_train['Species']!= target_species)].index).reset_index(drop=True)"
   ]
  },
  {
   "cell_type": "code",
   "execution_count": null,
   "metadata": {},
   "outputs": [],
   "source": [
    "df_test = pd.read_csv(\"./Data/2nd_manipulated_data/20220808_\" + str(key)+\"_test_minmax.csv\")\n",
    "df_test = df_test[df_test.Species==target_species].reset_index(drop=True)"
   ]
  },
  {
   "cell_type": "code",
   "execution_count": null,
   "metadata": {},
   "outputs": [],
   "source": [
    "#remain columns which you need\n",
    "delivered_package = set(df_train.columns.tolist()) - set(['Source','State','Year','Latitude','Longitude','public_positional_accuracy', \n",
    "                                                    str(target_species+str('_18'))])\n",
    "\n",
    "delivered_package = list(delivered_package)\n",
    "\n",
    "df_train = df_train.sort_values(by='Species').reset_index(drop=True)\n",
    "df_train_18 = df_train[delivered_package]\n",
    "\n",
    "\n",
    "df_train_18['target'] = 0\n",
    "df_train_18.loc[df_train.Species==target_species,'target']=1\n",
    "df_train_18 = df_train_18.sort_values(by='target', ascending=False).reset_index(drop=True)"
   ]
  },
  {
   "cell_type": "code",
   "execution_count": null,
   "metadata": {},
   "outputs": [],
   "source": [
    "df_train_18.rename(columns={\"Species\":\"Species_18\"},inplace=True)\n",
    "df_train_18.columns = [i.replace(\" \",\"_\").replace(\"-\",\"\") for i in df_train_18.columns]\n",
    "    "
   ]
  },
  {
   "cell_type": "markdown",
   "metadata": {},
   "source": [
    "### AOO 계산"
   ]
  },
  {
   "cell_type": "code",
   "execution_count": null,
   "metadata": {},
   "outputs": [],
   "source": [
    "AOO(df_train = df_train_18,\n",
    "df_test = df_test ,\n",
    "targetnum=len(df_test),\n",
    "varlist=shap_var,Year_start=2007,Year_end=2021,\n",
    "target_species=target_species,\n",
    "bagnum=50,repnum=50,learningrate=0.7,to_csv=False)"
   ]
  },
  {
   "cell_type": "code",
   "execution_count": null,
   "metadata": {},
   "outputs": [],
   "source": []
  }
 ],
 "metadata": {
  "kernelspec": {
   "display_name": "Python 3.7.8 64-bit",
   "language": "python",
   "name": "python3"
  },
  "language_info": {
   "codemirror_mode": {
    "name": "ipython",
    "version": 3
   },
   "file_extension": ".py",
   "mimetype": "text/x-python",
   "name": "python",
   "nbconvert_exporter": "python",
   "pygments_lexer": "ipython3",
   "version": "3.7.8"
  },
  "orig_nbformat": 4,
  "vscode": {
   "interpreter": {
    "hash": "31e7f64e5f794f3d9e14a1c6aa6032c55619d5e8f9c2735175e834e99d666003"
   }
  }
 },
 "nbformat": 4,
 "nbformat_minor": 2
}
