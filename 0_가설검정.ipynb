{
 "cells": [
  {
   "cell_type": "code",
   "execution_count": null,
   "metadata": {},
   "outputs": [],
   "source": [
    "import pandas as pd\n",
    "from scipy import stats\n",
    "import numpy as np\n",
    "import math\n",
    "import random\n",
    "from tqdm import tqdm\n",
    "import matplotlib.pyplot as plt"
   ]
  },
  {
   "cell_type": "code",
   "execution_count": null,
   "metadata": {},
   "outputs": [],
   "source": [
    "def select_key(num:int):\n",
    "    no = num\n",
    "\n",
    "    if no == 1:\n",
    "        target_species = 'Coccinella novemnotata'\n",
    "        key = 'novem'\n",
    "\n",
    "    elif no == 2:\n",
    "        target_species = 'Coccinella transversoguttata'\n",
    "        key = 'trans'\n",
    "\n",
    "    elif no == 3:\n",
    "        target_species = 'Adalia bipunctata'\n",
    "        key = 'bipun'\n",
    "\n",
    "    elif no == 4:\n",
    "        target_species = 'Hippodamia parenthesis'\n",
    "        key = 'paren'\n",
    "\n",
    "    return target_species,key"
   ]
  },
  {
   "cell_type": "code",
   "execution_count": null,
   "metadata": {},
   "outputs": [],
   "source": [
    "num = 1\n",
    "target_species,key= select_key(num)"
   ]
  },
  {
   "cell_type": "code",
   "execution_count": null,
   "metadata": {},
   "outputs": [],
   "source": [
    "df = pd.read_csv(\"../Data/2nd_manipulated_data/20220808_\" + str(key)+\"_train_minmax.csv\")"
   ]
  },
  {
   "cell_type": "code",
   "execution_count": null,
   "metadata": {},
   "outputs": [],
   "source": [
    "df_target = df[df.Species=='Coccinella novemnotata'].iloc[:,8:].reset_index(drop=True)\n",
    "df_absence = df[df.Species!='Coccinella novemnotata'].iloc[:,8:].reset_index(drop=True)"
   ]
  },
  {
   "cell_type": "markdown",
   "metadata": {},
   "source": [
    "**귀무가설: 타겟종에 관한 부재지점과 존재지역의 종분포에는 차이가 없다.**\n",
    "\n",
    "**대립가설:  타겟종에 관한 부재지점과 존재지역의 종분포에는 차이가 없다.**"
   ]
  },
  {
   "cell_type": "code",
   "execution_count": null,
   "metadata": {},
   "outputs": [],
   "source": [
    "#t검정 \n",
    "\n",
    "for j in tqdm(range(100)):\n",
    "    random.seed(j)\n",
    "\n",
    "    H_values_target = []\n",
    "    for i in range(len(df_target)):\n",
    "        target_row = df_target.iloc[[i]]\n",
    "        # 전부 0으로 나온 행은 제외. 0으로 나누면 에러떠서 그냥 미리 뺌\n",
    "        shannon_tmp = set(target_row.columns.tolist()) - set(target_row.columns[(target_row == 0).all()].tolist())\n",
    "        shannon_tmp = list(shannon_tmp - {'Species'})\n",
    "\n",
    "        H_value = 0\n",
    "        for name in shannon_tmp:\n",
    "            H_value = H_value + -1*float((target_row[name]/len(shannon_tmp))*math.log2((target_row[name]/len(shannon_tmp))))\n",
    "        H_values_target.append(H_value)\n",
    "    H_values_absence = []     \n",
    "    for i in random.sample(df_absence.index.tolist(),len(df_target)):\n",
    "        abs_row = df_absence.iloc[[i]]\n",
    "        # 전부 0으로 나온 행은 제외. 0으로 나누면 에러떠서 그냥 미리 뺌\n",
    "        shannon_tmp = set(abs_row.columns.tolist()) - set(abs_row.columns[(abs_row == 0).all()].tolist())\n",
    "        shannon_tmp = list(shannon_tmp - {'Species'})\n",
    "\n",
    "        H_value = 0\n",
    "        for name in shannon_tmp:\n",
    "            H_value = H_value + -1*float((abs_row[name]/len(shannon_tmp))*math.log2((abs_row[name]/len(shannon_tmp))))\n",
    "        H_values_absence.append(H_value)      \n",
    "    # pvalue가 0.05보다 큰경우만 출력\n",
    "    if stats.ttest_ind(H_values_target, H_values_absence).pvalue >0.05:\n",
    "        print(stats.ttest_ind(H_values_target, H_values_absence).pvalue )\n"
   ]
  },
  {
   "cell_type": "code",
   "execution_count": null,
   "metadata": {},
   "outputs": [],
   "source": []
  }
 ],
 "metadata": {
  "kernelspec": {
   "display_name": "Python 3.7.8 64-bit",
   "language": "python",
   "name": "python3"
  },
  "language_info": {
   "codemirror_mode": {
    "name": "ipython",
    "version": 3
   },
   "file_extension": ".py",
   "mimetype": "text/x-python",
   "name": "python",
   "nbconvert_exporter": "python",
   "pygments_lexer": "ipython3",
   "version": "3.7.8 (tags/v3.7.8:4b47a5b6ba, Jun 28 2020, 08:53:46) [MSC v.1916 64 bit (AMD64)]"
  },
  "orig_nbformat": 4,
  "vscode": {
   "interpreter": {
    "hash": "31e7f64e5f794f3d9e14a1c6aa6032c55619d5e8f9c2735175e834e99d666003"
   }
  }
 },
 "nbformat": 4,
 "nbformat_minor": 2
}
