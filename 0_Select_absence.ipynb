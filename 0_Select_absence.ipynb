{
 "cells": [
  {
   "cell_type": "code",
   "execution_count": 1,
   "metadata": {},
   "outputs": [],
   "source": [
    "import pandas as pd\n",
    "from tqdm import tqdm\n",
    "import numpy as np\n",
    "import random\n",
    "import pymysql\n",
    "from mlpckg.util_method import *"
   ]
  },
  {
   "cell_type": "code",
   "execution_count": 6,
   "metadata": {},
   "outputs": [],
   "source": [
    "#DB에서 불러오기\n",
    "db = pymysql.connect(host='localhost'\n",
    "                    ,port = 3306\n",
    "                    ,user='root'\n",
    "                    ,password='23359584'\n",
    "                    ,db='ladybug_project'\n",
    "                    ,charset='utf8') \n",
    "\n",
    "cursor = db.cursor() \n",
    "sql = \"SELECT * FROM all_coccinellid\"\n",
    "\n",
    "df_all = pd.read_sql_query(sql, db)"
   ]
  },
  {
   "cell_type": "code",
   "execution_count": 9,
   "metadata": {},
   "outputs": [],
   "source": [
    "df_all[[ 'Source', 'State', 'Year', 'Species', 'Latitude',\n",
    "       'Longitude', 'public_positional_accuracy']].to_csv(\"_all_coccinellid_Preprocessed.csv\")\n"
   ]
  },
  {
   "cell_type": "code",
   "execution_count": 3,
   "metadata": {},
   "outputs": [],
   "source": [
    "db.close()"
   ]
  },
  {
   "cell_type": "code",
   "execution_count": null,
   "metadata": {},
   "outputs": [],
   "source": [
    "df_ab = df_all[(df_all.Species=='Harmonia axyridis')|(df_all.Species=='Coccinella septempunctata')].reset_index(drop=True)\n",
    "\n",
    "df_ab_struct = df_ab[(df_ab.Source != 'I-naturalist')&\n",
    "       (df_ab.Source != 'The Lost Ladybugs')&\n",
    "       (df_ab.Source !='Bugguide.net')].reset_index(drop=True)\n",
    "\n",
    "\n",
    "\n",
    "\n",
    "df_presence = df_all[(df_all.Species=='Coccinella novemnotata')|(df_all.Species=='Coccinella transversoguttata')|\n",
    "                     (df_all.Species=='Hippodamia parenthesis')|(df_all.Species=='Adalia bipunctata')]\n",
    "\n",
    "df_presence.to_csv(\"./presence_only.csv\")"
   ]
  },
  {
   "cell_type": "markdown",
   "metadata": {},
   "source": [
    "### There are two ways to select absence data points. You can choose the way you like it."
   ]
  },
  {
   "cell_type": "code",
   "execution_count": null,
   "metadata": {},
   "outputs": [],
   "source": [
    "#Method 1. select absence, We thought that about 10 percent of all absence data points were appropriate\n",
    "random_sampled_absence = df_ab.iloc[random.sample(list(df_ab.index), k=int(len(df_ab)/10))].sort_values(by=[]).reset_index(drop=True)\n",
    "\n",
    "random_sampled_absence"
   ]
  },
  {
   "cell_type": "code",
   "execution_count": null,
   "metadata": {},
   "outputs": [],
   "source": [
    "#Method 2. This method randomly extracts absence in the state to be proportional to the frequency of appearance in the state of the entire presence data. \n",
    "# To avoid clumping, pull out the indexes of rows aligned by coordinate at regular intervals.\n",
    "it = ['Coccinella novemnotata',\n",
    "'Coccinella transversoguttata',\n",
    "'Hippodamia parenthesis',\n",
    "'Adalia bipunctata']\n",
    "\n",
    "for name in it:\n",
    "    df_tmp = df_presence[df_presence.Species==name].reset_index(drop=True)\n",
    "    #비율 측정\n",
    "    ratio = 3 # Larger ratio returns more absence data points\n",
    "    N=int(len(df_tmp)*ratio) \n",
    "    df_state = (df_tmp.State.value_counts()/len(df_tmp))*N\n",
    "\n",
    "    #비율에 따라 분모 x 생성\n",
    "    state_x ={}\n",
    "    for i in df_state.index:\n",
    "        if i in df_ab.State.unique():\n",
    "            if int(len(df_ab[df_ab.State==i].index) / df_state[df_state.index==i][0]) != 0:\n",
    "                state_x[i]=int(len(df_ab[df_ab.State==i].index) / df_state[df_state.index==i][0])\n",
    "            else:\n",
    "                state_x[i] = 1 \n",
    "\n",
    "\n",
    "\n",
    "    #             \n",
    "    many_idx = []\n",
    "    for i in tqdm(df_state.index):\n",
    "        #필요한 숫자가 후보군 전체보다 클 때\n",
    "        if (len(df_ab[df_ab.State==i].index)) < df_state[i]:\n",
    "                for j in range(len(df_ab[df_ab.State==i].index)):\n",
    "                    if (j%(state_x[i])) == 0:\n",
    "                        many_idx.append(df_ab[df_ab.State==i].index[j])\n",
    "        else:\n",
    "            for j in range(len(df_ab[df_ab.State==i].index)):\n",
    "                if (j%(state_x[i]+1)) == 0:\n",
    "                    many_idx.append(df_ab[df_ab.State==i].index[j])\n",
    "\n",
    "\n",
    "    #타겟종의 absence후보들 선정완료된 dataframe생성\n",
    "    df_abs = df_ab.iloc[many_idx].reset_index(drop=True)\n",
    "      \n",
    "    \n",
    "    # 만약 구조적데이터의 개수가 presence가 더 많다면!\n",
    "    if len(df_tmp[(df_tmp.Source != 'I-naturalist')&\n",
    "       (df_tmp.Source != 'The Lost Ladybugs')&\n",
    "       (df_tmp.Source !='Bugguide.net')]) > \\\n",
    "        len(df_abs[(df_abs.Source != 'I-naturalist')&\n",
    "        (df_abs.Source != 'The Lost Ladybugs')&\n",
    "        (df_abs.Source !='Bugguide.net')]):\n",
    "        index=[]\n",
    "        for i in df_tmp.State.unique():\n",
    "            if len(df_ab_struct[df_ab_struct.State==i].index) <= 4:\n",
    "                for j in range(len(df_ab_struct[df_ab_struct.State==i].index)):\n",
    "                        index.append(df_ab_struct[df_ab_struct.State==i].index[j])\n",
    "            else:\n",
    "                if len(df_ab_struct[df_ab_struct.State==i].index) <6:\n",
    "                    for t in (random.sample(list(df_ab_struct[df_ab_struct.State==i].index), k=4)):\n",
    "                        index.append(t)\n",
    "                else:\n",
    "                    for t in (random.sample(list(df_ab_struct[df_ab_struct.State==i].index), k=6)):\n",
    "                        index.append(t)\n",
    "\n",
    "\n",
    "        tlqkf = df_ab_struct.iloc[index].reset_index(drop=True)\n",
    "\n",
    "\n",
    "            \n",
    "    \n",
    "    #final dataframe is here. ex) novem_fin , trans_fin...\n",
    "    globals()['{}_fin'.format(name.split(\" \")[1][:5])] = pd.concat([df_tmp,df_abs,tlqkf])"
   ]
  },
  {
   "cell_type": "code",
   "execution_count": null,
   "metadata": {},
   "outputs": [],
   "source": [
    "#number of absence point \n",
    "for name in it:\n",
    "    print(len(globals()['{}_fin'.format(name.split(\" \")[1][:5])][globals()['{}_fin'.format(name.split(\" \")[1][:5])].Species!=name]))"
   ]
  },
  {
   "cell_type": "code",
   "execution_count": null,
   "metadata": {},
   "outputs": [],
   "source": [
    "#choose what you want and to_csv.\n",
    "\n",
    "#_____.to_csv(\"./absence_only.csv\")"
   ]
  }
 ],
 "metadata": {
  "kernelspec": {
   "display_name": "Python 3.7.8 64-bit",
   "language": "python",
   "name": "python3"
  },
  "language_info": {
   "codemirror_mode": {
    "name": "ipython",
    "version": 3
   },
   "file_extension": ".py",
   "mimetype": "text/x-python",
   "name": "python",
   "nbconvert_exporter": "python",
   "pygments_lexer": "ipython3",
   "version": "3.7.8"
  },
  "orig_nbformat": 4,
  "vscode": {
   "interpreter": {
    "hash": "31e7f64e5f794f3d9e14a1c6aa6032c55619d5e8f9c2735175e834e99d666003"
   }
  }
 },
 "nbformat": 4,
 "nbformat_minor": 2
}
