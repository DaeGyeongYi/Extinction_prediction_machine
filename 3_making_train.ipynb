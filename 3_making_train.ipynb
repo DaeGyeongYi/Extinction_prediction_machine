{
 "cells": [
  {
   "cell_type": "code",
   "execution_count": 1,
   "metadata": {},
   "outputs": [],
   "source": [
    "import pandas as pd\n",
    "from mlpckg.make_train import *\n",
    "from mlpckg.util_method import *\n"
   ]
  },
  {
   "cell_type": "code",
   "execution_count": null,
   "metadata": {},
   "outputs": [],
   "source": [
    "df_all = pd.read_csv(\"./Data/1st_manipulated_data/_all_coccinellid_Preprocessed.csv\",index_col=0)"
   ]
  },
  {
   "cell_type": "code",
   "execution_count": 2,
   "metadata": {},
   "outputs": [],
   "source": [
    "df_all = pd.read_csv(\"./ㅇㅇ.csv\")"
   ]
  },
  {
   "cell_type": "code",
   "execution_count": null,
   "metadata": {},
   "outputs": [],
   "source": [
    "it = ['Adalia bipunctata' , 'Coccinella novemnotata',\n",
    " 'Coccinella transversoguttata' , 'Hippodamia parenthesis' ]\n",
    "\n",
    "for name in it:\n",
    "    df_target = pd.read_csv(\"./Data/2nd_manipulated_data/20220808_\"+name.split()[1][:5]+\"_test_minmax.csv\")\n",
    "\n",
    "    df_fin = make_train(df_all =df_all ,df_target=df_target,target_species=name)\n",
    "\n",
    "    df_fin.to_csv(\"./Data/2nd_manipulated_data/20220808_\"+name.split()[1][:5]+\"_train_minmax.csv\", index=False)"
   ]
  }
 ],
 "metadata": {
  "kernelspec": {
   "display_name": "Python 3.7.8 64-bit",
   "language": "python",
   "name": "python3"
  },
  "language_info": {
   "codemirror_mode": {
    "name": "ipython",
    "version": 3
   },
   "file_extension": ".py",
   "mimetype": "text/x-python",
   "name": "python",
   "nbconvert_exporter": "python",
   "pygments_lexer": "ipython3",
   "version": "3.7.8 (tags/v3.7.8:4b47a5b6ba, Jun 28 2020, 08:53:46) [MSC v.1916 64 bit (AMD64)]"
  },
  "orig_nbformat": 4,
  "vscode": {
   "interpreter": {
    "hash": "31e7f64e5f794f3d9e14a1c6aa6032c55619d5e8f9c2735175e834e99d666003"
   }
  }
 },
 "nbformat": 4,
 "nbformat_minor": 2
}
