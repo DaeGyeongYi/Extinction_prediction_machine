{
 "cells": [
  {
   "cell_type": "code",
   "execution_count": 3,
   "metadata": {},
   "outputs": [],
   "source": [
    "import pymysql"
   ]
  },
  {
   "cell_type": "markdown",
   "metadata": {},
   "source": [
    "# 1.Create DB"
   ]
  },
  {
   "cell_type": "code",
   "execution_count": null,
   "metadata": {},
   "outputs": [],
   "source": [
    "\n",
    "db = pymysql.connect(host='localhost'\n",
    "                    ,port = 3306\n",
    "                    ,user=\"root\"\n",
    "                    ,password='23359584'\n",
    "                    ,charset='utf8')\n",
    "\n",
    "cursor = db.cursor() "
   ]
  },
  {
   "cell_type": "code",
   "execution_count": null,
   "metadata": {},
   "outputs": [],
   "source": [
    "sql = \"CREATE DATABASE ladybug_project\"\n",
    "cursor.execute(sql)\n",
    "db.commit() \n",
    "db.close()"
   ]
  },
  {
   "cell_type": "markdown",
   "metadata": {},
   "source": [
    "# 2.Create Table"
   ]
  },
  {
   "cell_type": "code",
   "execution_count": 4,
   "metadata": {},
   "outputs": [],
   "source": [
    "db = pymysql.connect(host='localhost'\n",
    "                    ,port = 3306\n",
    "                    ,user='root'\n",
    "                    ,password='23359584'\n",
    "                    ,db='ladybug_project'\n",
    "                    ,charset='utf8') \n",
    "cursor = db.cursor() "
   ]
  },
  {
   "cell_type": "code",
   "execution_count": 4,
   "metadata": {},
   "outputs": [
    {
     "data": {
      "text/plain": [
       "0"
      ]
     },
     "execution_count": 4,
     "metadata": {},
     "output_type": "execute_result"
    }
   ],
   "source": [
    "all_coccinellid_sql = \"CREATE TABLE IF NOT EXISTS \\\n",
    "all_coccinellid(Source VARCHAR(100) \\\n",
    ", State VARCHAR(50) \\\n",
    ", Year SMALLINT NOT NULL \\\n",
    ", Species VARCHAR(50) NOT NULL\\\n",
    ", Latitude DOUBLE NOT NULL\\\n",
    ", Longitude DOUBLE NOT NULL\\\n",
    ", public_positional_accuracy FLOAT\\\n",
    ", gps VARCHAR(100) NOT NULL\\\n",
    ", PRIMARY KEY(Year,Species,gps))\" \n",
    "\n",
    "cursor.execute(all_coccinellid_sql)"
   ]
  },
  {
   "cell_type": "code",
   "execution_count": 5,
   "metadata": {},
   "outputs": [],
   "source": [
    "selected_target_sql = \"CREATE TABLE IF NOT EXISTS \\\n",
    "selected_target(Year SMALLINT NOT NULL \\\n",
    ", Species VARCHAR(50) NOT NULL\\\n",
    ", gps VARCHAR(100) NOT NULL\\\n",
    ", PRIMARY KEY(Year,Species,gps)\\\n",
    ", FOREIGN KEY (Year,Species,gps) REFERENCES all_coccinellid (Year,Species,gps))\" \n",
    "cursor.execute(selected_target_sql)\n"
   ]
  },
  {
   "cell_type": "code",
   "execution_count": 7,
   "metadata": {},
   "outputs": [],
   "source": [
    "db.commit() "
   ]
  },
  {
   "cell_type": "code",
   "execution_count": 8,
   "metadata": {},
   "outputs": [],
   "source": [
    "db.close()"
   ]
  },
  {
   "cell_type": "code",
   "execution_count": null,
   "metadata": {},
   "outputs": [],
   "source": []
  }
 ],
 "metadata": {
  "kernelspec": {
   "display_name": "Python 3.7.8 64-bit",
   "language": "python",
   "name": "python3"
  },
  "language_info": {
   "codemirror_mode": {
    "name": "ipython",
    "version": 3
   },
   "file_extension": ".py",
   "mimetype": "text/x-python",
   "name": "python",
   "nbconvert_exporter": "python",
   "pygments_lexer": "ipython3",
   "version": "3.7.8"
  },
  "orig_nbformat": 4,
  "vscode": {
   "interpreter": {
    "hash": "31e7f64e5f794f3d9e14a1c6aa6032c55619d5e8f9c2735175e834e99d666003"
   }
  }
 },
 "nbformat": 4,
 "nbformat_minor": 2
}
