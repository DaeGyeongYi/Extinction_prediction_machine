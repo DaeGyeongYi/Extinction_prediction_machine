{
 "cells": [
  {
   "cell_type": "code",
   "execution_count": 1,
   "metadata": {},
   "outputs": [],
   "source": [
    "import pandas as pd\n",
    "from mlpckg.make_test import *"
   ]
  },
  {
   "cell_type": "code",
   "execution_count": 4,
   "metadata": {},
   "outputs": [],
   "source": [
    "df_all = pd.read_csv(\"./Data/1st_manipulated_data/_all_coccinellid_Preprocessed.csv\")\n",
    "df_absence = pd.read_csv(\"./Data/1st_manipulated_data/absence_only.csv\")\n",
    "df_presence = pd.read_csv(\"./Data/1st_manipulated_data/presence_only.csv\")"
   ]
  },
  {
   "cell_type": "code",
   "execution_count": 3,
   "metadata": {},
   "outputs": [],
   "source": [
    "df_all = df_all[[ 'Source', 'State', 'Year', 'Species', 'Latitude',\n",
    "       'Longitude', 'public_positional_accuracy']]\n",
    "\n",
    "df_absence = df_absence[[ 'Source', 'State', 'Year', 'Species', 'Latitude',\n",
    "       'Longitude', 'public_positional_accuracy']]\n",
    "\n",
    "df_presence = df_presence[[ 'Source', 'State', 'Year', 'Species', 'Latitude',\n",
    "       'Longitude', 'public_positional_accuracy']]\n",
    "\n",
    "\n",
    "df_target = pd.concat([df_presence,df_absence]).reset_index(drop=True)"
   ]
  },
  {
   "cell_type": "code",
   "execution_count": null,
   "metadata": {},
   "outputs": [],
   "source": [
    "########################\n",
    "Year_start = 2007\n",
    "Year_end = 2021\n",
    "##########################\n",
    "\n",
    "df_fin = make_test(df_all=df_all,df_target=df_target,Year_Start=Year_start,Year_end=Year_end)\n"
   ]
  },
  {
   "cell_type": "code",
   "execution_count": null,
   "metadata": {},
   "outputs": [],
   "source": [
    "df_fin.to_csv(\"./20220807_final_test_all.csv\", index=False)"
   ]
  }
 ],
 "metadata": {
  "kernelspec": {
   "display_name": "Python 3.7.8 64-bit",
   "language": "python",
   "name": "python3"
  },
  "language_info": {
   "codemirror_mode": {
    "name": "ipython",
    "version": 3
   },
   "file_extension": ".py",
   "mimetype": "text/x-python",
   "name": "python",
   "nbconvert_exporter": "python",
   "pygments_lexer": "ipython3",
   "version": "3.7.8"
  },
  "orig_nbformat": 4,
  "vscode": {
   "interpreter": {
    "hash": "31e7f64e5f794f3d9e14a1c6aa6032c55619d5e8f9c2735175e834e99d666003"
   }
  }
 },
 "nbformat": 4,
 "nbformat_minor": 2
}
