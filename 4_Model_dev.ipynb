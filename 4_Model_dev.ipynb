{
 "cells": [
  {
   "cell_type": "code",
   "execution_count": null,
   "metadata": {},
   "outputs": [],
   "source": [
    "import pandas as pd\n",
    "import numpy as np\n",
    "\n",
    "from tqdm import tqdm_notebook\n",
    "from tqdm import tqdm\n",
    "from mlpckg.stat_method import *\n",
    "from mlpckg.ML_method import *\n",
    "from mlpckg.util_method import *\n",
    "from mlpckg.final_var_select import *\n",
    "\n",
    "import warnings\n",
    "warnings.filterwarnings('ignore')"
   ]
  },
  {
   "cell_type": "code",
   "execution_count": null,
   "metadata": {},
   "outputs": [],
   "source": [
    "# select_key() argument (\"1.novem/ 2.trans/ 3.bipun/ 4.paren \")\n",
    "# select_key() return (target_species,key)\n",
    "\n",
    "num = 1\n",
    "target_species,key= select_key(num)\n",
    "\n",
    "\n",
    "ratio = 0"
   ]
  },
  {
   "cell_type": "code",
   "execution_count": null,
   "metadata": {},
   "outputs": [],
   "source": [
    "#csv for model\n",
    "df_train = pd.read_csv(\"./Data/2nd_manipulated_data/20220808_\" + str(key)+\"_train_minmax.csv\")\n",
    "\n",
    "df_train = df_train.drop(df_train[(df_train[target_species + str('_18')]!=0)&(df_train['Species']!= target_species)].index).reset_index(drop=True)"
   ]
  },
  {
   "cell_type": "code",
   "execution_count": null,
   "metadata": {},
   "outputs": [],
   "source": [
    "#remain columns which you need\n",
    "delivered_package = set(df_train.columns.tolist()) - set(['Source','State','Year','Latitude','Longitude','public_positional_accuracy', \n",
    "                                                    str(target_species+str('_18'))])\n",
    "\n",
    "delivered_package = list(delivered_package)\n",
    "\n",
    "df_train = df_train.sort_values(by='Species').reset_index(drop=True)\n",
    "df_train_18 = df_train[delivered_package]\n",
    "\n",
    "\n",
    "# target 1: presence, 0: absence\n",
    "df_train_18['target'] = 0\n",
    "\n",
    "df_train_18.loc[df_train_18.Species==target_species,'target'] = 1\n",
    "\n",
    "df_train_18 = df_train_18.sort_values(by='target', ascending=False).reset_index(drop=True)"
   ]
  },
  {
   "cell_type": "code",
   "execution_count": null,
   "metadata": {},
   "outputs": [],
   "source": [
    "df_train_18.rename(columns={\"Species\":\"Species_18\"},inplace=True)"
   ]
  },
  {
   "cell_type": "markdown",
   "metadata": {},
   "source": [
    "### 1.통계분석(독립회귀분석 -> 다중회귀분석)을 통한 변수 선정"
   ]
  },
  {
   "cell_type": "code",
   "execution_count": null,
   "metadata": {},
   "outputs": [],
   "source": [
    "df_train_copy = df_train_18.copy()\n",
    "pot = custom_linreg(df_train_copy,target_species)"
   ]
  },
  {
   "cell_type": "code",
   "execution_count": null,
   "metadata": {},
   "outputs": [],
   "source": [
    "# 1) linear regress result\n",
    "lemon=[]\n",
    "for i in pot:\n",
    "    lemon.append(i.replace(' ','_').replace('-',''))\n",
    "\n",
    "    \n",
    "lemon2 = ' + '.join(lemon)\n",
    "lemon\n",
    "lemon2\n",
    "\n",
    "for i in df_train_copy.columns:\n",
    "    for j in range(0, len(pot)):\n",
    "        if i == pot[j]:\n",
    "            df_train_copy.rename(columns={i: lemon[j]}, inplace = True)"
   ]
  },
  {
   "cell_type": "code",
   "execution_count": null,
   "metadata": {},
   "outputs": [],
   "source": [
    "# linear regress result -> multiple regress \n",
    "lemon2 = custom_mulreg(olsarg =lemon2,df=df_train_copy,viewoption=True)[1]\n",
    "\n",
    "# onemore\n",
    "lemon2 = custom_mulreg(olsarg =lemon2,df=df_train_copy)[1]\n",
    "#onemore\n",
    "lemon2 = custom_mulreg(olsarg =lemon2,df=df_train_copy)[1]\n",
    "\n",
    "\n",
    "res, lemon2 = custom_mulreg(olsarg =lemon2,df=df_train_copy)"
   ]
  },
  {
   "cell_type": "code",
   "execution_count": null,
   "metadata": {},
   "outputs": [],
   "source": [
    "#linear regress result -> multiple regress result\n",
    "green_moss = pd.DataFrame(res.pvalues)\n",
    "green_moss = green_moss[green_moss[0] < 0.05]\n",
    "green_moss.drop(['Intercept'], inplace=True)\n",
    "\n",
    "add_p1 = list(green_moss.index)\n",
    "add_p1"
   ]
  },
  {
   "cell_type": "markdown",
   "metadata": {},
   "source": [
    "### 2.통계분석(다중회귀분석)을 통한 변수 선정"
   ]
  },
  {
   "cell_type": "code",
   "execution_count": null,
   "metadata": {},
   "outputs": [],
   "source": [
    "df_train_copy2 = df_train_18.copy()\n",
    "\n",
    "jazz = list(df_train_copy2.columns)\n",
    "jazz.remove('target')\n",
    "jazz.remove('Species_18')\n",
    "\n",
    "# 2) only multiple regress\n",
    "lemon=[]\n",
    "for i in jazz:\n",
    "    lemon.append(i.replace(' ','_').replace('-',''))\n",
    "print(len(lemon))  \n",
    "\n",
    "rime = ' + '.join(lemon)\n",
    "print(len(rime.split(\"+\")))"
   ]
  },
  {
   "cell_type": "code",
   "execution_count": null,
   "metadata": {},
   "outputs": [],
   "source": [
    "col_index=[]\n",
    "for cols in df_train_copy2.columns:\n",
    "    col_index.append(cols.replace(' ','_').replace('-',''))\n",
    "\n",
    "df_train_copy2.columns = col_index\n"
   ]
  },
  {
   "cell_type": "code",
   "execution_count": null,
   "metadata": {},
   "outputs": [],
   "source": [
    "#multiple regress (related Species)\n",
    "lemon2 = custom_mulreg(olsarg =rime,df=df_train_copy2,viewoption=True)[1]\n",
    "\n",
    "\n",
    "# multiple regress (related Species)\n",
    "lemon2 = custom_mulreg(olsarg =lemon2,df=df_train_copy2)[1]\n",
    "\n",
    "#multiple regress (related Species)\n",
    "lemon2 = custom_mulreg(olsarg =lemon2,df=df_train_copy2)[1]\n",
    "\n",
    "# multiple regress (related Species)\n",
    "res, lemon2 = custom_mulreg(olsarg =lemon2,df=df_train_copy2)[0], custom_mulreg(olsarg =lemon2,df=df_train_copy2,viewoption=True)[1]"
   ]
  },
  {
   "cell_type": "code",
   "execution_count": null,
   "metadata": {},
   "outputs": [],
   "source": [
    "#multiple regress result(related Species)\n",
    "green_moss = pd.DataFrame(res.pvalues)\n",
    "green_moss = green_moss[green_moss[0] < 0.05]\n",
    "green_moss.drop(['Intercept'], inplace=True)\n",
    "\n",
    "add_p2 = list(green_moss.index)\n",
    "add_p2"
   ]
  },
  {
   "cell_type": "code",
   "execution_count": null,
   "metadata": {},
   "outputs": [],
   "source": [
    "df_train_copy = df_train_copy.drop(columns = 'target')\n",
    "df_train_copy = df_train_copy.drop(columns = 'Species_18')"
   ]
  },
  {
   "cell_type": "code",
   "execution_count": null,
   "metadata": {},
   "outputs": [],
   "source": [
    "# 단순히 많이 찍힌 종들이 어떤 종인지 한번 봐보는 용도\n",
    "# species that were dominantly recorded around the targets were checked\n",
    "dicts2 = {}\n",
    "for i in df_train_copy.columns:\n",
    "    dicts2[i] = len(df_train_copy[df_train_copy[i] != 0])\n",
    "    \n",
    "dicts2 = sorted(dicts2.items(), key = lambda item: item[1], reverse = True)\n",
    "dicts2 = dicts2[:4]\n",
    "add_f = [x[0] for x in dicts2]\n",
    "\n",
    "#replace ' ' to '_'\n",
    "add_f2 = []\n",
    "for i in add_f:\n",
    "    add_f2.append(i.replace(' ', '_'))\n",
    "    \n",
    "add_f = add_f2\n"
   ]
  },
  {
   "cell_type": "code",
   "execution_count": null,
   "metadata": {},
   "outputs": [],
   "source": [
    "MC = list(set(add_p1 + add_f))\n",
    "DJ = list(set(add_p2 + add_f))\n",
    "\n",
    "\n",
    "#MC는 add_p1은 c7이 빠지게됨.\n",
    "print(len(MC) == len(add_p1))\n",
    "print(len(DJ) == len(add_p2))"
   ]
  },
  {
   "cell_type": "markdown",
   "metadata": {},
   "source": [
    "### 3.다중공선성을 고려한 변수 압축\n",
    "- 10 이하, 엄격할 경우 5 이하"
   ]
  },
  {
   "cell_type": "code",
   "execution_count": null,
   "metadata": {},
   "outputs": [],
   "source": [
    "MC = custom_vif_varlist(df=df_train_copy2,varlist=MC)\n",
    "DJ = custom_vif_varlist(df=df_train_copy2,varlist=DJ)\n",
    "\n",
    "print(len(MC))\n",
    "print(len(DJ))"
   ]
  },
  {
   "cell_type": "code",
   "execution_count": null,
   "metadata": {},
   "outputs": [],
   "source": [
    "quiz = len(df_train_copy2[df_train_copy2.Species_18 == target_species].index)\n",
    "quiz"
   ]
  },
  {
   "cell_type": "markdown",
   "metadata": {},
   "source": [
    "### 4. ML 결과"
   ]
  },
  {
   "cell_type": "code",
   "execution_count": null,
   "metadata": {},
   "outputs": [],
   "source": [
    "ML(df=df_train_copy2.drop('Species_18',axis=1),\n",
    "targetnum=quiz,\n",
    "varlist=DJ,\n",
    "varlistname='DJ',\n",
    "target_species=target_species,\n",
    "bagnum=50,repnum=50,\n",
    "testsize=0.1,learningrate=0.7,viewoption=False,to_csv=False)"
   ]
  },
  {
   "cell_type": "markdown",
   "metadata": {},
   "source": [
    "### 5. feature importance , shap index => 변수압축"
   ]
  },
  {
   "cell_type": "code",
   "execution_count": null,
   "metadata": {},
   "outputs": [],
   "source": [
    "# check feature importance: shap values\n",
    "final_vars= final_var_select(df=df_train_copy2.drop('Species_18',axis=1),\n",
    "targetnum=quiz,\n",
    "varlist=DJ,\n",
    "target_species=target_species,\n",
    "bagnum=10,repnum=10,\n",
    "testsize=0.1,learningrate=0.7,returnsize=15,viewoption=False,to_csv=False)"
   ]
  },
  {
   "cell_type": "markdown",
   "metadata": {},
   "source": [
    "### 6. 5에서 결정한 변수들만 사용했을때, 모델의 성능 평가"
   ]
  },
  {
   "cell_type": "code",
   "execution_count": null,
   "metadata": {},
   "outputs": [],
   "source": [
    "ML(df=df_train_copy2.drop('Species_18',axis=1),\n",
    "targetnum=quiz,\n",
    "varlist=final_vars,\n",
    "varlistname='SHAP',\n",
    "target_species=target_species,\n",
    "bagnum=50,repnum=50,\n",
    "testsize=0.1,learningrate=0.7,viewoption=False,to_csv=False)"
   ]
  },
  {
   "cell_type": "code",
   "execution_count": null,
   "metadata": {},
   "outputs": [],
   "source": []
  }
 ],
 "metadata": {
  "kernelspec": {
   "display_name": "Python 3.7.8 64-bit",
   "language": "python",
   "name": "python3"
  },
  "language_info": {
   "codemirror_mode": {
    "name": "ipython",
    "version": 3
   },
   "file_extension": ".py",
   "mimetype": "text/x-python",
   "name": "python",
   "nbconvert_exporter": "python",
   "pygments_lexer": "ipython3",
   "version": "3.7.8"
  },
  "orig_nbformat": 4,
  "vscode": {
   "interpreter": {
    "hash": "31e7f64e5f794f3d9e14a1c6aa6032c55619d5e8f9c2735175e834e99d666003"
   }
  }
 },
 "nbformat": 4,
 "nbformat_minor": 2
}
