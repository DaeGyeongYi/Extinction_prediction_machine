{
 "cells": [
  {
   "cell_type": "code",
   "execution_count": 1,
   "metadata": {},
   "outputs": [],
   "source": [
    "import pandas as pd\n",
    "from sklearn.preprocessing import MinMaxScaler"
   ]
  },
  {
   "cell_type": "code",
   "execution_count": 2,
   "metadata": {},
   "outputs": [],
   "source": [
    "#call your test dataframe which includes Absence and Presence datapoint of your all target Species\n",
    "df=pd.read_csv(\"./Data/2nd_manipulated_data/20220807_final_test_all.csv\")"
   ]
  },
  {
   "cell_type": "code",
   "execution_count": 3,
   "metadata": {},
   "outputs": [],
   "source": [
    "#minmax scaling is depend on target Species. so if you need, modify this list\n",
    "it = ['Adalia bipunctata' , 'Coccinella novemnotata',\n",
    " 'Coccinella transversoguttata' , 'Hippodamia parenthesis' ]\n",
    "\n",
    "\n",
    "\n",
    "for i in it:\n",
    "    df_copy = df.copy()\n",
    "    target_species=i\n",
    "    df_copy = df_copy[(df_copy.Species==target_species)|(df_copy.Species=='Coccinella septempunctata')|(df_copy.Species=='Harmonia axyridis')].reset_index(drop=True)\n",
    "    print(df_copy.Species.unique())\n",
    "    \n",
    "    scaler = MinMaxScaler()\n",
    "    #check this index location, it must be only columns named by species name\n",
    "    scaler.fit(df_copy.iloc[:,9:])\n",
    "\n",
    "    # scaled dataframe\n",
    "    df_tmp = pd.DataFrame(scaler.transform(df_copy.iloc[:,9:]), columns=df_copy.iloc[:,9:].columns, index=list(df_copy.index.values))\n",
    "\n",
    "    # concat with original columns that they are not columns named by species name\n",
    "    df_fin = pd.concat([df_copy.iloc[:,:8],df_tmp],axis=1).reset_index(drop=True)\n",
    "\n",
    "\n",
    "    df_fin.to_csv(\"20220808_\"+target_species.split()[1][:5]+\"_test_minmax.csv\", index=False)\n"
   ]
  }
 ],
 "metadata": {
  "kernelspec": {
   "display_name": "Python 3.7.8 64-bit",
   "language": "python",
   "name": "python3"
  },
  "language_info": {
   "codemirror_mode": {
    "name": "ipython",
    "version": 3
   },
   "file_extension": ".py",
   "mimetype": "text/x-python",
   "name": "python",
   "nbconvert_exporter": "python",
   "pygments_lexer": "ipython3",
   "version": "3.7.8"
  },
  "orig_nbformat": 4,
  "vscode": {
   "interpreter": {
    "hash": "31e7f64e5f794f3d9e14a1c6aa6032c55619d5e8f9c2735175e834e99d666003"
   }
  }
 },
 "nbformat": 4,
 "nbformat_minor": 2
}
